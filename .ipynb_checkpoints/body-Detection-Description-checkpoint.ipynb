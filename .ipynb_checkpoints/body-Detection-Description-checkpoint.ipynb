{
 "cells": [
  {
   "cell_type": "code",
   "execution_count": 1,
   "id": "29c6468d-fd48-4e22-a967-668ffd6a62d0",
   "metadata": {},
   "outputs": [],
   "source": [
    "import mediapipe as mp\n",
    "import cv2"
   ]
  },
  {
   "cell_type": "markdown",
   "id": "757966fa-e9b6-475f-9a9c-034858e0702b",
   "metadata": {},
   "source": [
    "first line imports a drawing utilities wich will help us to draw utils from specific holistic module\n",
    "and the second line will import a holistic module"
   ]
  },
  {
   "cell_type": "code",
   "execution_count": 2,
   "id": "266269d8-f6c7-478c-bb88-b5a93ee4da46",
   "metadata": {},
   "outputs": [],
   "source": [
    "mp_drawing=mp.solutions.drawing_utils\n",
    "mp_holistic=mp.solutions.holistic"
   ]
  },
  {
   "cell_type": "markdown",
   "id": "57982ce7-4f5a-4408-b84d-838de8e71dc3",
   "metadata": {},
   "source": [
    "<b>Getting realtime webcam feed </b>\n",
    "    "
   ]
  },
  {
   "cell_type": "code",
   "execution_count": 18,
   "id": "2984ca20-ce08-4db2-bc13-8fbe2d87cdd9",
   "metadata": {},
   "outputs": [],
   "source": [
    "cap=cv2.VideoCapture(1)\n",
    "while cap.isOpened():\n",
    "    ret, frame=cap.read();\n",
    "    cv2.imshow('Holistic module detection',frame);\n",
    "    \n",
    "    if (cv2.waitKey(10) & 0xFF == ord('q')):\n",
    "       break;\n",
    "cap.release();\n",
    "cv2.destroyAllWindows();"
   ]
  },
  {
   "cell_type": "code",
   "execution_count": 8,
   "id": "803a6a28-32b4-4b97-9222-e939e62fcddc",
   "metadata": {},
   "outputs": [],
   "source": [
    "cap.release();\n",
    "cv2.destroyAllWindows();"
   ]
  },
  {
   "cell_type": "markdown",
   "id": "f5971819-37f1-4f38-90f7-91779299b4c7",
   "metadata": {},
   "source": [
    "<b> Make Detection From Feed </b>"
   ]
  },
  {
   "cell_type": "code",
   "execution_count": 3,
   "id": "f48acedc-1019-4b48-a503-65925c224fcd",
   "metadata": {},
   "outputs": [],
   "source": [
    "cap=cv2.VideoCapture(0)\n",
    "# Inisiate Holistic Module\n",
    "with mp_holistic.Holistic(min_detection_confidence=0.5,min_tracking_confidence=0.5) as holistic:\n",
    "    \n",
    "    while cap.isOpened():\n",
    "        ret, frame=cap.read();\n",
    "        #Recolor Feed\n",
    "        image=cv2.cvtColor(frame,cv2.COLOR_BGR2RGB);\n",
    "        #Make Detection\n",
    "        result=holistic.process(image);\n",
    "        #print(result.face_landmarks)\n",
    "        \n",
    "        # face_landmarks pose_landmarks left_hand_landmarks right_hand_landmarks \n",
    "        # Recoloring Back to BGR\n",
    "        image=cv2.cvtColor(image,cv2.COLOR_RGB2BGR);\n",
    "        \n",
    "        #Draw Face Landmarks\n",
    "        mp_drawing.draw_landmarks(image,result.face_landmarks,mp_holistic.FACEMESH_TESSELATION);\n",
    "        \n",
    "        #Draw Right Hand\n",
    "        mp_drawing.draw_landmarks(image,result.right_hand_landmarks,mp_holistic.HAND_CONNECTIONS);\n",
    "        \n",
    "        #Draw Left Hand\n",
    "        mp_drawing.draw_landmarks(image,result.left_hand_landmarks,mp_holistic.HAND_CONNECTIONS);\n",
    "        \n",
    "        # Draw pose\n",
    "        mp_drawing.draw_landmarks(image,result.pose_landmarks,mp_holistic.POSE_CONNECTIONS);\n",
    "        \n",
    "        \n",
    "        \n",
    "        cv2.imshow('Holistic module detection',image);\n",
    "    \n",
    "        if (cv2.waitKey(10) & 0xFF == ord('q')):\n",
    "            break;\n",
    "    \n",
    "    \n",
    "    cap.release();\n",
    "    cv2.destroyAllWindows();\n",
    "    \n",
    "\n"
   ]
  },
  {
   "cell_type": "markdown",
   "id": "c3698f70-30e6-4766-8497-9b5b63ad9dc4",
   "metadata": {},
   "source": [
    "<b> Apply cosmatics: </b>"
   ]
  },
  {
   "cell_type": "code",
   "execution_count": 10,
   "id": "251ad028-dd02-4138-afda-eeacde6027fa",
   "metadata": {},
   "outputs": [
    {
     "data": {
      "text/plain": [
       "DrawingSpec(color=(0, 0, 255), thickness=2, circle_radius=2)"
      ]
     },
     "execution_count": 11,
     "metadata": {},
     "output_type": "execute_result"
    }
   ],
   "source": [
    "mp_drawing.DrawingSpec(color=(0,0,),thickness=2,circle_radius=2)"
   ]
  },
  {
   "cell_type": "code",
   "execution_count": 21,
   "id": "65487e3d-a95d-4ee3-a5cc-a61a69300ca6",
   "metadata": {},
   "outputs": [
    {
     "ename": "error",
     "evalue": "OpenCV(4.5.3) C:\\Users\\runneradmin\\AppData\\Local\\Temp\\pip-req-build-u4kjpz2z\\opencv\\modules\\imgproc\\src\\color.cpp:182: error: (-215:Assertion failed) !_src.empty() in function 'cv::cvtColor'\n",
     "output_type": "error",
     "traceback": [
      "\u001b[1;31m------------------------------------------------\u001b[0m",
      "\u001b[1;31merror\u001b[0m          Traceback (most recent call last)",
      "\u001b[1;32m~\\AppData\\Local\\Temp/ipykernel_20720/530731337.py\u001b[0m in \u001b[0;36m<module>\u001b[1;34m\u001b[0m\n\u001b[0;32m      6\u001b[0m         \u001b[0mret\u001b[0m\u001b[1;33m,\u001b[0m \u001b[0mframe\u001b[0m\u001b[1;33m=\u001b[0m\u001b[0mcap\u001b[0m\u001b[1;33m.\u001b[0m\u001b[0mread\u001b[0m\u001b[1;33m(\u001b[0m\u001b[1;33m)\u001b[0m\u001b[1;33m;\u001b[0m\u001b[1;33m\u001b[0m\u001b[1;33m\u001b[0m\u001b[0m\n\u001b[0;32m      7\u001b[0m         \u001b[1;31m#Recolor Feed\u001b[0m\u001b[1;33m\u001b[0m\u001b[1;33m\u001b[0m\u001b[1;33m\u001b[0m\u001b[0m\n\u001b[1;32m----> 8\u001b[1;33m         \u001b[0mimage\u001b[0m\u001b[1;33m=\u001b[0m\u001b[0mcv2\u001b[0m\u001b[1;33m.\u001b[0m\u001b[0mcvtColor\u001b[0m\u001b[1;33m(\u001b[0m\u001b[0mframe\u001b[0m\u001b[1;33m,\u001b[0m\u001b[0mcv2\u001b[0m\u001b[1;33m.\u001b[0m\u001b[0mCOLOR_BGR2RGB\u001b[0m\u001b[1;33m)\u001b[0m\u001b[1;33m;\u001b[0m\u001b[1;33m\u001b[0m\u001b[1;33m\u001b[0m\u001b[0m\n\u001b[0m\u001b[0;32m      9\u001b[0m         \u001b[1;31m#Make Detection\u001b[0m\u001b[1;33m\u001b[0m\u001b[1;33m\u001b[0m\u001b[1;33m\u001b[0m\u001b[0m\n\u001b[0;32m     10\u001b[0m         \u001b[0mresult\u001b[0m\u001b[1;33m=\u001b[0m\u001b[0mholistic\u001b[0m\u001b[1;33m.\u001b[0m\u001b[0mprocess\u001b[0m\u001b[1;33m(\u001b[0m\u001b[0mimage\u001b[0m\u001b[1;33m)\u001b[0m\u001b[1;33m;\u001b[0m\u001b[1;33m\u001b[0m\u001b[1;33m\u001b[0m\u001b[0m\n",
      "\u001b[1;31merror\u001b[0m: OpenCV(4.5.3) C:\\Users\\runneradmin\\AppData\\Local\\Temp\\pip-req-build-u4kjpz2z\\opencv\\modules\\imgproc\\src\\color.cpp:182: error: (-215:Assertion failed) !_src.empty() in function 'cv::cvtColor'\n"
     ]
    }
   ],
   "source": [
    "cap=cv2.VideoCapture(1)\n",
    "# Inisiate Holistic Module\n",
    "with mp_holistic.Holistic(min_detection_confidence=0.5,min_tracking_confidence=0.5) as holistic:\n",
    "    \n",
    "    while cap.isOpened():\n",
    "        ret, frame=cap.read();\n",
    "        #Recolor Feed\n",
    "        image=cv2.cvtColor(frame,cv2.COLOR_BGR2RGB);\n",
    "        #Make Detection\n",
    "        result=holistic.process(image);\n",
    "        #print(result.face_landmarks)\n",
    "        \n",
    "        # face_landmarks pose_landmarks left_hand_landmarks right_hand_landmarks \n",
    "        # Recoloring Back to BGR\n",
    "        image=cv2.cvtColor(image,cv2.COLOR_RGB2BGR);\n",
    "        \n",
    "        #Draw Face Landmarks\n",
    "        mp_drawing.draw_landmarks(image,result.face_landmarks,mp_holistic.FACEMESH_TESSELATION,\n",
    "                                 mp_drawing.DrawingSpec(color=(0,0,255),thickness=2,circle_radius=2),\n",
    "                                 mp_drawing.DrawingSpec(color=(0,255,0),thickness=2,circle_radius=2));\n",
    "        \n",
    "        #Draw Right Hand\n",
    "        mp_drawing.draw_landmarks(image,result.right_hand_landmarks,mp_holistic.HAND_CONNECTIONS,\n",
    "                                 mp_drawing.DrawingSpec(color=(0,0,255),thickness=2,circle_radius=2),\n",
    "                                 mp_drawing.DrawingSpec(color=(255,0,0),thickness=2,circle_radius=2));\n",
    "        \n",
    "        #Draw Left Hand\n",
    "        mp_drawing.draw_landmarks(image,result.left_hand_landmarks,mp_holistic.HAND_CONNECTIONS,\n",
    "                                 mp_drawing.DrawingSpec(color=(0,0,255),thickness=2,circle_radius=2),\n",
    "                                 mp_drawing.DrawingSpec(color=(255,0,0),thickness=2,circle_radius=2));\n",
    "        \n",
    "        # Draw pose\n",
    "        mp_drawing.draw_landmarks(image,result.pose_landmarks,mp_holistic.POSE_CONNECTIONS,\n",
    "                                 mp_drawing.DrawingSpec(color=(0,255,255),thickness=2,circle_radius=2),\n",
    "                                 mp_drawing.DrawingSpec(color=(81,100,255),thickness=2,circle_radius=2));\n",
    "        \n",
    "        \n",
    "        \n",
    "        cv2.imshow('Holistic module detection',image);\n",
    "    \n",
    "        if (cv2.waitKey(10) & 0xFF == ord('q')):\n",
    "            break;\n",
    "    \n",
    "    \n",
    "    cap.release();\n",
    "    cv2.destroyAllWindows();\n",
    "    \n",
    "\n"
   ]
  },
  {
   "cell_type": "code",
   "execution_count": null,
   "id": "a5d152e3-a625-43c8-96f4-2f2fefea6c65",
   "metadata": {},
   "outputs": [],
   "source": []
  },
  {
   "cell_type": "code",
   "execution_count": null,
   "id": "4ff61dd8-0a94-4b23-9d55-88908fcbc56d",
   "metadata": {},
   "outputs": [],
   "source": []
  }
 ],
 "metadata": {
  "kernelspec": {
   "display_name": "Python 3 (ipykernel)",
   "language": "python",
   "name": "python3"
  },
  "language_info": {
   "codemirror_mode": {
    "name": "ipython",
    "version": 3
   },
   "file_extension": ".py",
   "mimetype": "text/x-python",
   "name": "python",
   "nbconvert_exporter": "python",
   "pygments_lexer": "ipython3",
   "version": "3.8.8"
  }
 },
 "nbformat": 4,
 "nbformat_minor": 5
}
