{
 "cells": [
  {
   "cell_type": "markdown",
   "id": "4f1c58bc-1238-4e49-80b3-9cce7ee4ebe1",
   "metadata": {},
   "source": [
    "<b> Fisrt of all lets import our libraries </b>"
   ]
  },
  {
   "cell_type": "code",
   "execution_count": 2,
   "id": "945069bf-d3f6-4575-b1f7-e3b61f08c4a1",
   "metadata": {},
   "outputs": [],
   "source": [
    "import mediapipe as mp #imports a drawing utilities wich will help us to draw utils from specific holistic module\n",
    "import cv2 #import a holistic module"
   ]
  },
  {
   "cell_type": "code",
   "execution_count": 3,
   "id": "b29a13d9-724d-4ae6-97a7-bdd425693eb4",
   "metadata": {},
   "outputs": [],
   "source": [
    "mp_drawing=mp.solutions.drawing_utils\n",
    "mp_holistic=mp.solutions.holistic"
   ]
  },
  {
   "cell_type": "markdown",
   "id": "a2da31b7-b421-4b56-a4d4-6f01bcb7c21d",
   "metadata": {},
   "source": [
    "<b> opening video stram and detection the body </b>"
   ]
  },
  {
   "cell_type": "code",
   "execution_count": 8,
   "id": "57cb21b9-1abd-4f6b-9251-0a416e4f46bc",
   "metadata": {},
   "outputs": [],
   "source": [
    "cap=cv2.VideoCapture(0)\n",
    "# Inisiate Holistic Module\n",
    "with mp_holistic.Holistic(min_detection_confidence=0.5,min_tracking_confidence=0.5) as holistic:\n",
    "    \n",
    "    while cap.isOpened():\n",
    "        ret, frame=cap.read();\n",
    "        #Recolor Feed\n",
    "        image=cv2.cvtColor(frame,cv2.COLOR_BGR2RGB);\n",
    "        #Make Detection\n",
    "        result=holistic.process(image);\n",
    "        #print(result.face_landmarks)\n",
    "        \n",
    "        # face_landmarks pose_landmarks left_hand_landmarks right_hand_landmarks \n",
    "        # Recoloring Back to BGR\n",
    "        image=cv2.cvtColor(image,cv2.COLOR_RGB2BGR);\n",
    "        \n",
    "        #Draw Face Landmarks\n",
    "        mp_drawing.draw_landmarks(image,result.face_landmarks,mp_holistic.FACEMESH_TESSELATION,\n",
    "                                 mp_drawing.DrawingSpec(color=(0,0,255),thickness=2,circle_radius=2),\n",
    "                                 mp_drawing.DrawingSpec(color=(0,255,0),thickness=2,circle_radius=2));\n",
    "        \n",
    "        #Draw Right Hand\n",
    "        mp_drawing.draw_landmarks(image,result.right_hand_landmarks,mp_holistic.HAND_CONNECTIONS,\n",
    "                                 mp_drawing.DrawingSpec(color=(0,0,255),thickness=2,circle_radius=2),\n",
    "                                 mp_drawing.DrawingSpec(color=(255,0,0),thickness=2,circle_radius=2));\n",
    "        \n",
    "        #Draw Left Hand\n",
    "        mp_drawing.draw_landmarks(image,result.left_hand_landmarks,mp_holistic.HAND_CONNECTIONS,\n",
    "                                 mp_drawing.DrawingSpec(color=(0,0,255),thickness=2,circle_radius=2),\n",
    "                                 mp_drawing.DrawingSpec(color=(255,0,0),thickness=2,circle_radius=2));\n",
    "        \n",
    "        # Draw pose\n",
    "        mp_drawing.draw_landmarks(image,result.pose_landmarks,mp_holistic.POSE_CONNECTIONS,\n",
    "                                 mp_drawing.DrawingSpec(color=(0,255,255),thickness=2,circle_radius=2),\n",
    "                                 mp_drawing.DrawingSpec(color=(81,100,255),thickness=2,circle_radius=2));\n",
    "        \n",
    "        \n",
    "        \n",
    "        cv2.imshow('Body detection',image);\n",
    "    \n",
    "        if (cv2.waitKey(10) & 0xFF == ord('e')):\n",
    "            break;\n",
    "    \n",
    "    \n",
    "    cap.release();\n",
    "    cv2.destroyAllWindows();\n",
    "    \n",
    "\n"
   ]
  },
  {
   "cell_type": "markdown",
   "id": "f2bced5a-e726-4ee3-84cb-ffc755574aa1",
   "metadata": {},
   "source": [
    "## if the code crashed for some reason we can release the stream variable"
   ]
  },
  {
   "cell_type": "code",
   "execution_count": null,
   "id": "41f26b25-8b77-4544-aa7c-2470399f7392",
   "metadata": {},
   "outputs": [],
   "source": [
    "cap.release();\n",
    "cv2.destroyAllWindows();"
   ]
  },
  {
   "cell_type": "markdown",
   "id": "b91c06e7-17d7-42b6-9819-98a725384049",
   "metadata": {},
   "source": [
    "### notes"
   ]
  },
  {
   "cell_type": "markdown",
   "id": "c0016183-a4ad-4534-a64f-34eaaf437bc0",
   "metadata": {},
   "source": [
    "1. we can change the detected body parts or the marks color and size if we want using <b> mp_drawing.DrawingSpec </b>\n",
    "2. we also can change the camera by its number using <b> cv2.VideoCapture(0) </b>"
   ]
  },
  {
   "cell_type": "code",
   "execution_count": null,
   "id": "8b932b0f-67a1-4a0e-a815-fb446cd3aea8",
   "metadata": {},
   "outputs": [],
   "source": []
  }
 ],
 "metadata": {
  "kernelspec": {
   "display_name": "Python 3 (ipykernel)",
   "language": "python",
   "name": "python3"
  },
  "language_info": {
   "codemirror_mode": {
    "name": "ipython",
    "version": 3
   },
   "file_extension": ".py",
   "mimetype": "text/x-python",
   "name": "python",
   "nbconvert_exporter": "python",
   "pygments_lexer": "ipython3",
   "version": "3.8.8"
  }
 },
 "nbformat": 4,
 "nbformat_minor": 5
}
